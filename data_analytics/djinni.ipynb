{
 "cells": [
  {
   "cell_type": "code",
   "execution_count": 1,
   "outputs": [],
   "source": [
    "import pandas as pd\n",
    "import numpy as np\n",
    "import matplotlib.pyplot as plt"
   ],
   "metadata": {
    "collapsed": false,
    "ExecuteTime": {
     "end_time": "2023-08-27T15:03:45.161585200Z",
     "start_time": "2023-08-27T15:03:34.533723900Z"
    }
   },
   "id": "76c31b2c94544ec8"
  },
  {
   "cell_type": "code",
   "execution_count": 2,
   "outputs": [
    {
     "data": {
      "text/plain": "                                                 title    required-experience  \\\n0                              Senior Python Developer  5 years of experience   \n1                              Python Django Developer  3 years of experience   \n2                   Fullstack developer (React+Python)  3 years of experience   \n3                                    Python (asterisk)  2 years of experience   \n4    Team Lead Python Software Engineer (Machine Le...  5 years of experience   \n..                                                 ...                    ...   \n142               Strong Middle/Senior Python Engineer  5 years of experience   \n143                         FullStack Python Tech Lead  5 years of experience   \n144                                   Python developer  3 years of experience   \n145                                    Python Engineer  5 years of experience   \n146                          Machine Learning Engineer  2 years of experience   \n\n                                          technologies     salary  \\\n0                                                  NaN        NaN   \n1                     Django/Flask/Aiohttp/FastApi,AWS  from 3500   \n2                                                  NaN  1000-2500   \n3                                                  NaN        NaN   \n4                   Python,Django,FastAPI,Team leading        NaN   \n..                                                 ...        ...   \n142  Python,Python / Django,Python3,PostgreSQL,Djan...  3000-4500   \n143                                                NaN        NaN   \n144     Python,Python3,API,Redis/RabbitMQ,Apache Kafka  1000-2500   \n145                               Python,SQL,databases  4000-5500   \n146                                                NaN    to 3500   \n\n          english-level      domain  \n0          Intermediate    Gambling  \n1          Intermediate  E-commerce  \n2    Upper-Intermediate         NaN  \n3          Intermediate         NaN  \n4    Upper-Intermediate     Fintech  \n..                  ...         ...  \n142  Upper-Intermediate      Travel  \n143  Upper-Intermediate         NaN  \n144                 NaN    Hardware  \n145  Upper-Intermediate        SaaS  \n146        Intermediate         NaN  \n\n[147 rows x 6 columns]",
      "text/html": "<div>\n<style scoped>\n    .dataframe tbody tr th:only-of-type {\n        vertical-align: middle;\n    }\n\n    .dataframe tbody tr th {\n        vertical-align: top;\n    }\n\n    .dataframe thead th {\n        text-align: right;\n    }\n</style>\n<table border=\"1\" class=\"dataframe\">\n  <thead>\n    <tr style=\"text-align: right;\">\n      <th></th>\n      <th>title</th>\n      <th>required-experience</th>\n      <th>technologies</th>\n      <th>salary</th>\n      <th>english-level</th>\n      <th>domain</th>\n    </tr>\n  </thead>\n  <tbody>\n    <tr>\n      <th>0</th>\n      <td>Senior Python Developer</td>\n      <td>5 years of experience</td>\n      <td>NaN</td>\n      <td>NaN</td>\n      <td>Intermediate</td>\n      <td>Gambling</td>\n    </tr>\n    <tr>\n      <th>1</th>\n      <td>Python Django Developer</td>\n      <td>3 years of experience</td>\n      <td>Django/Flask/Aiohttp/FastApi,AWS</td>\n      <td>from 3500</td>\n      <td>Intermediate</td>\n      <td>E-commerce</td>\n    </tr>\n    <tr>\n      <th>2</th>\n      <td>Fullstack developer (React+Python)</td>\n      <td>3 years of experience</td>\n      <td>NaN</td>\n      <td>1000-2500</td>\n      <td>Upper-Intermediate</td>\n      <td>NaN</td>\n    </tr>\n    <tr>\n      <th>3</th>\n      <td>Python (asterisk)</td>\n      <td>2 years of experience</td>\n      <td>NaN</td>\n      <td>NaN</td>\n      <td>Intermediate</td>\n      <td>NaN</td>\n    </tr>\n    <tr>\n      <th>4</th>\n      <td>Team Lead Python Software Engineer (Machine Le...</td>\n      <td>5 years of experience</td>\n      <td>Python,Django,FastAPI,Team leading</td>\n      <td>NaN</td>\n      <td>Upper-Intermediate</td>\n      <td>Fintech</td>\n    </tr>\n    <tr>\n      <th>...</th>\n      <td>...</td>\n      <td>...</td>\n      <td>...</td>\n      <td>...</td>\n      <td>...</td>\n      <td>...</td>\n    </tr>\n    <tr>\n      <th>142</th>\n      <td>Strong Middle/Senior Python Engineer</td>\n      <td>5 years of experience</td>\n      <td>Python,Python / Django,Python3,PostgreSQL,Djan...</td>\n      <td>3000-4500</td>\n      <td>Upper-Intermediate</td>\n      <td>Travel</td>\n    </tr>\n    <tr>\n      <th>143</th>\n      <td>FullStack Python Tech Lead</td>\n      <td>5 years of experience</td>\n      <td>NaN</td>\n      <td>NaN</td>\n      <td>Upper-Intermediate</td>\n      <td>NaN</td>\n    </tr>\n    <tr>\n      <th>144</th>\n      <td>Python developer</td>\n      <td>3 years of experience</td>\n      <td>Python,Python3,API,Redis/RabbitMQ,Apache Kafka</td>\n      <td>1000-2500</td>\n      <td>NaN</td>\n      <td>Hardware</td>\n    </tr>\n    <tr>\n      <th>145</th>\n      <td>Python Engineer</td>\n      <td>5 years of experience</td>\n      <td>Python,SQL,databases</td>\n      <td>4000-5500</td>\n      <td>Upper-Intermediate</td>\n      <td>SaaS</td>\n    </tr>\n    <tr>\n      <th>146</th>\n      <td>Machine Learning Engineer</td>\n      <td>2 years of experience</td>\n      <td>NaN</td>\n      <td>to 3500</td>\n      <td>Intermediate</td>\n      <td>NaN</td>\n    </tr>\n  </tbody>\n</table>\n<p>147 rows × 6 columns</p>\n</div>"
     },
     "execution_count": 2,
     "metadata": {},
     "output_type": "execute_result"
    }
   ],
   "source": [
    "data = pd.read_csv(\"../data/job.csv\")\n",
    "df = pd.DataFrame(data)\n",
    "df"
   ],
   "metadata": {
    "collapsed": false,
    "ExecuteTime": {
     "end_time": "2023-08-27T15:04:27.848944500Z",
     "start_time": "2023-08-27T15:04:27.684673Z"
    }
   },
   "id": "fd58eca3c55863c4"
  },
  {
   "cell_type": "code",
   "execution_count": null,
   "outputs": [],
   "source": [],
   "metadata": {
    "collapsed": false
   },
   "id": "eeaa6d24f3894997"
  }
 ],
 "metadata": {
  "kernelspec": {
   "display_name": "Python 3",
   "language": "python",
   "name": "python3"
  },
  "language_info": {
   "codemirror_mode": {
    "name": "ipython",
    "version": 2
   },
   "file_extension": ".py",
   "mimetype": "text/x-python",
   "name": "python",
   "nbconvert_exporter": "python",
   "pygments_lexer": "ipython2",
   "version": "2.7.6"
  }
 },
 "nbformat": 4,
 "nbformat_minor": 5
}
